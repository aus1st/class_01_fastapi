{
 "cells": [
  {
   "cell_type": "code",
   "execution_count": 3,
   "metadata": {},
   "outputs": [
    {
     "name": "stdout",
     "output_type": "stream",
     "text": [
      "datetime.datetime(2024, 1, 1, 12, 14, 0, 643163)\n",
      "(10, 20)\n"
     ]
    }
   ],
   "source": [
    "from datetime import datetime\n",
    "from typing import Tuple\n",
    "\n",
    "from pydantic import BaseModel\n",
    "\n",
    "\n",
    "class Delivery(BaseModel):\n",
    "    timestamp: datetime\n",
    "    dimensions: Tuple[int, int]\n",
    "\n",
    "\n",
    "m = Delivery(timestamp=datetime.now(), dimensions=[10, 20])\n",
    "print(repr(m.timestamp))\n",
    "print(m.dimensions)\n",
    "\n"
   ]
  },
  {
   "cell_type": "code",
   "execution_count": 12,
   "metadata": {},
   "outputs": [
    {
     "name": "stdout",
     "output_type": "stream",
     "text": [
      "123\n"
     ]
    },
    {
     "data": {
      "text/plain": [
       "{'id': 123,\n",
       " 'name': 'Siddiqui',\n",
       " 'signup_ts': datetime.datetime(2023, 12, 31, 12, 41),\n",
       " 'tastes': {'ice_cream': 5, 'cake': 10, 'cabage': 1}}"
      ]
     },
     "metadata": {},
     "output_type": "display_data"
    }
   ],
   "source": [
    "from datetime import datetime\n",
    "from pydantic import BaseModel, PositiveInt, ValidationError\n",
    "\n",
    "class User(BaseModel):\n",
    "    id: int\n",
    "    name: str = 'Siddiqui'\n",
    "    signup_ts: datetime\n",
    "    tastes: dict[str, PositiveInt]\n",
    "\n",
    "external_data = {\n",
    "    'id': 123,\n",
    "    'signup_ts': '2023-12-31 12:41',\n",
    "    'tastes':  {'ice_cream': 5, 'cake': 10 , 'cabage': '1'}    \n",
    "}\n",
    "\n",
    "try:\n",
    "    user = User(**external_data)    \n",
    "except ValidationError as e:\n",
    "    print(e.json())\n",
    "else:\n",
    "    print(user.id)   \n",
    "    display(user.model_dump())"
   ]
  },
  {
   "cell_type": "code",
   "execution_count": 16,
   "metadata": {},
   "outputs": [
    {
     "data": {
      "text/plain": [
       "[{'type': 'int_parsing',\n",
       "  'loc': ('id',),\n",
       "  'msg': 'Input should be a valid integer, unable to parse string as an integer',\n",
       "  'input': 'not an int',\n",
       "  'url': 'https://errors.pydantic.dev/2.5/v/int_parsing'},\n",
       " {'type': 'missing',\n",
       "  'loc': ('signup_ts',),\n",
       "  'msg': 'Field required',\n",
       "  'input': {'id': 'not an int', 'tastes': {}},\n",
       "  'url': 'https://errors.pydantic.dev/2.5/v/missing'}]"
      ]
     },
     "metadata": {},
     "output_type": "display_data"
    }
   ],
   "source": [
    "# continuing the above example...\n",
    "from datetime import datetime\n",
    "from pydantic import BaseModel,ValidationError\n",
    "\n",
    "\n",
    "class User(BaseModel):\n",
    "    id: int\n",
    "    name: str = 'John Doe'\n",
    "    signup_ts: datetime\n",
    "    tastes: dict[str, PositiveInt]\n",
    "\n",
    "\n",
    "external_data = {'id': 'not an int', 'tastes': {}}  \n",
    "\n",
    "try:\n",
    "    User(**external_data)  \n",
    "except ValidationError as e:\n",
    "    display(e.errors())\n",
    "    \n"
   ]
  }
 ],
 "metadata": {
  "kernelspec": {
   "display_name": "fastApiEnv",
   "language": "python",
   "name": "python3"
  },
  "language_info": {
   "codemirror_mode": {
    "name": "ipython",
    "version": 3
   },
   "file_extension": ".py",
   "mimetype": "text/x-python",
   "name": "python",
   "nbconvert_exporter": "python",
   "pygments_lexer": "ipython3",
   "version": "3.9.18"
  }
 },
 "nbformat": 4,
 "nbformat_minor": 2
}
