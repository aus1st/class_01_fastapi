{
 "cells": [
  {
   "cell_type": "code",
   "execution_count": 13,
   "metadata": {},
   "outputs": [
    {
     "name": "stdout",
     "output_type": "stream",
     "text": [
      "{'name': 'John', 'email': 'j@j.com', 'account_id': 11} <class 'dict'>\n",
      "name='John' email='j@j.com' account_id=11\n"
     ]
    }
   ],
   "source": [
    "from pydantic import BaseModel, field_validator, EmailStr\n",
    "\n",
    "class User(BaseModel):\n",
    "    name: str\n",
    "    email: EmailStr\n",
    "    account_id: int\n",
    "\n",
    "    @field_validator('account_id')\n",
    "    def account_id_must_be_positive(cls, v):\n",
    "        if v < 0:\n",
    "            raise ValueError(f'account_id must be positive {v}')\n",
    "        return v\n",
    "    \n",
    "user1: User = User(name='John', email='j@j.com', account_id=11)\n",
    "\n",
    "user_json_str: str = user1.model_dump()\n",
    "print(user_json_str, type(user_json_str))\n",
    "\n",
    "user_obj: User = User.model_validate_json(user1.model_dump_json())\n",
    "print(user_obj)"
   ]
  }
 ],
 "metadata": {
  "kernelspec": {
   "display_name": "fastApiEnv",
   "language": "python",
   "name": "python3"
  },
  "language_info": {
   "codemirror_mode": {
    "name": "ipython",
    "version": 3
   },
   "file_extension": ".py",
   "mimetype": "text/x-python",
   "name": "python",
   "nbconvert_exporter": "python",
   "pygments_lexer": "ipython3",
   "version": "3.9.18"
  }
 },
 "nbformat": 4,
 "nbformat_minor": 2
}
